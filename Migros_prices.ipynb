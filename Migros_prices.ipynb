{
 "cells": [
  {
   "cell_type": "code",
   "execution_count": 4,
   "id": "equivalent-specification",
   "metadata": {},
   "outputs": [],
   "source": [
    "import requests\n",
    "from bs4 import BeautifulSoup as bs\n",
    "import pandas as pd\n",
    "import numpy as np\n",
    "import datetime\n",
    "from IPython.display import clear_output\n",
    "import re\n",
    "import csv "
   ]
  },
  {
   "cell_type": "code",
   "execution_count": 5,
   "id": "computational-tuesday",
   "metadata": {},
   "outputs": [],
   "source": [
    "main_url= \"https://www.migros.com.tr\"\n",
    "subcat_urls = []\n",
    "item_urls = []\n",
    "cat_name = []\n",
    "all_pages_urls = []\n",
    "\n",
    "product = {\n",
    "    \"name\":[],\n",
    "    \"price\":[],\n",
    "    \"producer\":[],\n",
    "    \"cat\":[]\n",
    "}"
   ]
  },
  {
   "cell_type": "code",
   "execution_count": 6,
   "id": "musical-navigator",
   "metadata": {},
   "outputs": [],
   "source": [
    "html = requests.get(main_url).content\n",
    "soup = bs(html, \"lxml\")"
   ]
  },
  {
   "cell_type": "code",
   "execution_count": 7,
   "id": "passing-defensive",
   "metadata": {},
   "outputs": [],
   "source": [
    "tags = soup.findAll(\"li\", class_=\"category-list-item category-title\")\n",
    "for item in tags[:81]:\n",
    "    for i in item.find_all(\"a\", href=True):\n",
    "        subcat_urls.append(main_url+i[\"href\"])\n",
    "        cat_name.append(i.text.strip())"
   ]
  },
  {
   "cell_type": "code",
   "execution_count": 8,
   "id": "silent-wings",
   "metadata": {},
   "outputs": [],
   "source": [
    "#Defining a function to find last page of every catagory\n",
    "def find_last_page(page):\n",
    "    r = requests.get(page).content\n",
    "    soup = bs(r, \"lxml\")\n",
    "    a = soup.find(\"ul\", class_=\"pagination\").text.strip()\n",
    "    temp = re.findall(r'\\d+', a)\n",
    "    res = list(map(int, temp))\n",
    "    return int(res[-1])"
   ]
  },
  {
   "cell_type": "code",
   "execution_count": null,
   "id": "promotional-george",
   "metadata": {},
   "outputs": [],
   "source": [
    "#Taking the all urls of all pages from website \n",
    "for page in subcat_urls:\n",
    "    last_page = find_last_page(page)\n",
    "    for i in range(1, last_page+1):\n",
    "        try:\n",
    "            new_url = page + str(\"?sayfa=\") + str(i)\n",
    "            html = requests.get(new_url).text\n",
    "            soup = bs(html, \"lxml\")\n",
    "            all_pages_urls.append(new_url)\n",
    "        except IndexError:\n",
    "            break"
   ]
  },
  {
   "cell_type": "code",
   "execution_count": null,
   "id": "played-buyer",
   "metadata": {},
   "outputs": [],
   "source": [
    "#Taking all the items URLs from pages\n",
    "page_number = 0\n",
    "for url in all_pages_urls:\n",
    "    try:\n",
    "        \n",
    "        html = requests.get(url).content\n",
    "        soup = bs(html, \"lxml\")\n",
    "        tag = soup.findAll(\"h5\", class_=\"title product-card-title\")\n",
    "        for item in tag:\n",
    "            for i in item.find_all(\"a\", href=True):\n",
    "                item_urls.append(main_url+i[\"href\"])\n",
    "                page_number += 1\n",
    "    except IndexError:\n",
    "            break\n",
    "print(\"Number of the webpage: \", page_number)"
   ]
  },
  {
   "cell_type": "code",
   "execution_count": null,
   "id": "successful-mortality",
   "metadata": {},
   "outputs": [],
   "source": [
    "#Taking price, name, catogory and the brand from the item pages\n",
    "i = 0\n",
    "for link in item_urls:\n",
    "    try:\n",
    "        i += 1\n",
    "        r = requests.get(link).content\n",
    "        soups = bs(r, \"lxml\")\n",
    "        name = soups.find(\"h1\", class_=\"seo title\").text.strip()\n",
    "        price = soups.find(\"span\", class_=\"value\").text.strip()\n",
    "        producer = soups.find(\"span\", \"sup-title\").text.strip()[7:]\n",
    "        category = soups.find(\"ul\", class_=\"breadcrumb\").text.strip()\n",
    "        category = category.split(\"\\n\")[4].split(\" \"*12)[1]\n",
    "        product[\"name\"].append(name)\n",
    "        product[\"price\"].append(price)\n",
    "        product[\"producer\"].append(producer)\n",
    "        product[\"cat\"].append(category)\n",
    "    except IndexError:\n",
    "        print(link, \": is passed\")"
   ]
  },
  {
   "cell_type": "code",
   "execution_count": null,
   "id": "killing-following",
   "metadata": {},
   "outputs": [],
   "source": [
    "df = pd.DataFrame(product)"
   ]
  },
  {
   "cell_type": "code",
   "execution_count": null,
   "id": "atomic-graph",
   "metadata": {},
   "outputs": [],
   "source": [
    "df.rename(columns = {'name' : 'Ürün ismi', 'price' : 'Fiyat', \"producer\": \"Satıcı\", \"cat\":\"Kategori\"}, inplace = True)"
   ]
  },
  {
   "cell_type": "code",
   "execution_count": null,
   "id": "likely-sierra",
   "metadata": {},
   "outputs": [],
   "source": [
    "path = r'C:\\Users\\armag\\Desktop\\Web\\Products.csv'\n",
    "df.to_csv(path, index=False, encoding=\"utf-8\", sep=\";\")"
   ]
  },
  {
   "cell_type": "code",
   "execution_count": 510,
   "id": "reasonable-excess",
   "metadata": {},
   "outputs": [
    {
     "data": {
      "text/html": [
       "<div>\n",
       "<style scoped>\n",
       "    .dataframe tbody tr th:only-of-type {\n",
       "        vertical-align: middle;\n",
       "    }\n",
       "\n",
       "    .dataframe tbody tr th {\n",
       "        vertical-align: top;\n",
       "    }\n",
       "\n",
       "    .dataframe thead th {\n",
       "        text-align: right;\n",
       "    }\n",
       "</style>\n",
       "<table border=\"1\" class=\"dataframe\">\n",
       "  <thead>\n",
       "    <tr style=\"text-align: right;\">\n",
       "      <th></th>\n",
       "      <th>Ürün ismi</th>\n",
       "      <th>Fiyat</th>\n",
       "      <th>Satıcı</th>\n",
       "      <th>Kategori</th>\n",
       "    </tr>\n",
       "  </thead>\n",
       "  <tbody>\n",
       "    <tr>\n",
       "      <th>0</th>\n",
       "      <td>Muz Yerli Kg</td>\n",
       "      <td>12,99 TL</td>\n",
       "      <td>Reyondan</td>\n",
       "      <td>Meyve</td>\n",
       "    </tr>\n",
       "    <tr>\n",
       "      <th>1</th>\n",
       "      <td>Limon Kg</td>\n",
       "      <td>7,95 TL</td>\n",
       "      <td>Reyondan</td>\n",
       "      <td>Meyve</td>\n",
       "    </tr>\n",
       "    <tr>\n",
       "      <th>2</th>\n",
       "      <td>Muz İthal Kg</td>\n",
       "      <td>17,95 TL</td>\n",
       "      <td>Reyondan</td>\n",
       "      <td>Meyve</td>\n",
       "    </tr>\n",
       "    <tr>\n",
       "      <th>3</th>\n",
       "      <td>Portakal Sıkma File Kg</td>\n",
       "      <td>6,59 TL</td>\n",
       "      <td>Reyondan</td>\n",
       "      <td>Meyve</td>\n",
       "    </tr>\n",
       "    <tr>\n",
       "      <th>4</th>\n",
       "      <td>Avokado Adet</td>\n",
       "      <td>6,95 TL</td>\n",
       "      <td>Reyondan</td>\n",
       "      <td>Meyve</td>\n",
       "    </tr>\n",
       "  </tbody>\n",
       "</table>\n",
       "</div>"
      ],
      "text/plain": [
       "                Ürün ismi     Fiyat    Satıcı Kategori\n",
       "0            Muz Yerli Kg  12,99 TL  Reyondan    Meyve\n",
       "1                Limon Kg   7,95 TL  Reyondan    Meyve\n",
       "2            Muz İthal Kg  17,95 TL  Reyondan    Meyve\n",
       "3  Portakal Sıkma File Kg   6,59 TL  Reyondan    Meyve\n",
       "4            Avokado Adet   6,95 TL  Reyondan    Meyve"
      ]
     },
     "execution_count": 510,
     "metadata": {},
     "output_type": "execute_result"
    }
   ],
   "source": [
    "df.head()"
   ]
  },
  {
   "cell_type": "code",
   "execution_count": null,
   "id": "different-yellow",
   "metadata": {},
   "outputs": [],
   "source": []
  }
 ],
 "metadata": {
  "kernelspec": {
   "display_name": "new_gpu",
   "language": "python",
   "name": "new_gpu"
  },
  "language_info": {
   "codemirror_mode": {
    "name": "ipython",
    "version": 3
   },
   "file_extension": ".py",
   "mimetype": "text/x-python",
   "name": "python",
   "nbconvert_exporter": "python",
   "pygments_lexer": "ipython3",
   "version": "3.7.10"
  }
 },
 "nbformat": 4,
 "nbformat_minor": 5
}
